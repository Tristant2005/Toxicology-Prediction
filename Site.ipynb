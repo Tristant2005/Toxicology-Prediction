{
  "cells": [
    {
      "cell_type": "markdown",
      "source": [
        "# **Notebook for running and editing the Website**"
      ],
      "metadata": {
        "id": "TMpgj9UhjrwV"
      }
    },
    {
      "cell_type": "markdown",
      "source": [
        "# Install packages"
      ],
      "metadata": {
        "id": "aZAzfUIJjz9h"
      }
    },
    {
      "cell_type": "code",
      "execution_count": 3,
      "metadata": {
        "colab": {
          "base_uri": "https://localhost:8080/"
        },
        "id": "HIr_ipikKUlj",
        "outputId": "b5ee0656-652c-48da-9a2a-99a4fac189ed"
      },
      "outputs": [
        {
          "output_type": "stream",
          "name": "stdout",
          "text": [
            "Requirement already satisfied: streamlit in /usr/local/lib/python3.11/dist-packages (1.41.1)\n",
            "Requirement already satisfied: altair<6,>=4.0 in /usr/local/lib/python3.11/dist-packages (from streamlit) (5.5.0)\n",
            "Requirement already satisfied: blinker<2,>=1.0.0 in /usr/local/lib/python3.11/dist-packages (from streamlit) (1.9.0)\n",
            "Requirement already satisfied: cachetools<6,>=4.0 in /usr/local/lib/python3.11/dist-packages (from streamlit) (5.5.0)\n",
            "Requirement already satisfied: click<9,>=7.0 in /usr/local/lib/python3.11/dist-packages (from streamlit) (8.1.8)\n",
            "Requirement already satisfied: numpy<3,>=1.23 in /usr/local/lib/python3.11/dist-packages (from streamlit) (1.26.4)\n",
            "Requirement already satisfied: packaging<25,>=20 in /usr/local/lib/python3.11/dist-packages (from streamlit) (24.2)\n",
            "Requirement already satisfied: pandas<3,>=1.4.0 in /usr/local/lib/python3.11/dist-packages (from streamlit) (2.2.2)\n",
            "Requirement already satisfied: pillow<12,>=7.1.0 in /usr/local/lib/python3.11/dist-packages (from streamlit) (11.1.0)\n",
            "Requirement already satisfied: protobuf<6,>=3.20 in /usr/local/lib/python3.11/dist-packages (from streamlit) (4.25.5)\n",
            "Requirement already satisfied: pyarrow>=7.0 in /usr/local/lib/python3.11/dist-packages (from streamlit) (17.0.0)\n",
            "Requirement already satisfied: requests<3,>=2.27 in /usr/local/lib/python3.11/dist-packages (from streamlit) (2.32.3)\n",
            "Requirement already satisfied: rich<14,>=10.14.0 in /usr/local/lib/python3.11/dist-packages (from streamlit) (13.9.4)\n",
            "Requirement already satisfied: tenacity<10,>=8.1.0 in /usr/local/lib/python3.11/dist-packages (from streamlit) (9.0.0)\n",
            "Requirement already satisfied: toml<2,>=0.10.1 in /usr/local/lib/python3.11/dist-packages (from streamlit) (0.10.2)\n",
            "Requirement already satisfied: typing-extensions<5,>=4.3.0 in /usr/local/lib/python3.11/dist-packages (from streamlit) (4.12.2)\n",
            "Requirement already satisfied: watchdog<7,>=2.1.5 in /usr/local/lib/python3.11/dist-packages (from streamlit) (6.0.0)\n",
            "Requirement already satisfied: gitpython!=3.1.19,<4,>=3.0.7 in /usr/local/lib/python3.11/dist-packages (from streamlit) (3.1.44)\n",
            "Requirement already satisfied: pydeck<1,>=0.8.0b4 in /usr/local/lib/python3.11/dist-packages (from streamlit) (0.9.1)\n",
            "Requirement already satisfied: tornado<7,>=6.0.3 in /usr/local/lib/python3.11/dist-packages (from streamlit) (6.3.3)\n",
            "Requirement already satisfied: jinja2 in /usr/local/lib/python3.11/dist-packages (from altair<6,>=4.0->streamlit) (3.1.5)\n",
            "Requirement already satisfied: jsonschema>=3.0 in /usr/local/lib/python3.11/dist-packages (from altair<6,>=4.0->streamlit) (4.23.0)\n",
            "Requirement already satisfied: narwhals>=1.14.2 in /usr/local/lib/python3.11/dist-packages (from altair<6,>=4.0->streamlit) (1.21.1)\n",
            "Requirement already satisfied: gitdb<5,>=4.0.1 in /usr/local/lib/python3.11/dist-packages (from gitpython!=3.1.19,<4,>=3.0.7->streamlit) (4.0.12)\n",
            "Requirement already satisfied: python-dateutil>=2.8.2 in /usr/local/lib/python3.11/dist-packages (from pandas<3,>=1.4.0->streamlit) (2.8.2)\n",
            "Requirement already satisfied: pytz>=2020.1 in /usr/local/lib/python3.11/dist-packages (from pandas<3,>=1.4.0->streamlit) (2024.2)\n",
            "Requirement already satisfied: tzdata>=2022.7 in /usr/local/lib/python3.11/dist-packages (from pandas<3,>=1.4.0->streamlit) (2024.2)\n",
            "Requirement already satisfied: charset-normalizer<4,>=2 in /usr/local/lib/python3.11/dist-packages (from requests<3,>=2.27->streamlit) (3.4.1)\n",
            "Requirement already satisfied: idna<4,>=2.5 in /usr/local/lib/python3.11/dist-packages (from requests<3,>=2.27->streamlit) (3.10)\n",
            "Requirement already satisfied: urllib3<3,>=1.21.1 in /usr/local/lib/python3.11/dist-packages (from requests<3,>=2.27->streamlit) (2.3.0)\n",
            "Requirement already satisfied: certifi>=2017.4.17 in /usr/local/lib/python3.11/dist-packages (from requests<3,>=2.27->streamlit) (2024.12.14)\n",
            "Requirement already satisfied: markdown-it-py>=2.2.0 in /usr/local/lib/python3.11/dist-packages (from rich<14,>=10.14.0->streamlit) (3.0.0)\n",
            "Requirement already satisfied: pygments<3.0.0,>=2.13.0 in /usr/local/lib/python3.11/dist-packages (from rich<14,>=10.14.0->streamlit) (2.18.0)\n",
            "Requirement already satisfied: smmap<6,>=3.0.1 in /usr/local/lib/python3.11/dist-packages (from gitdb<5,>=4.0.1->gitpython!=3.1.19,<4,>=3.0.7->streamlit) (5.0.2)\n",
            "Requirement already satisfied: MarkupSafe>=2.0 in /usr/local/lib/python3.11/dist-packages (from jinja2->altair<6,>=4.0->streamlit) (3.0.2)\n",
            "Requirement already satisfied: attrs>=22.2.0 in /usr/local/lib/python3.11/dist-packages (from jsonschema>=3.0->altair<6,>=4.0->streamlit) (24.3.0)\n",
            "Requirement already satisfied: jsonschema-specifications>=2023.03.6 in /usr/local/lib/python3.11/dist-packages (from jsonschema>=3.0->altair<6,>=4.0->streamlit) (2024.10.1)\n",
            "Requirement already satisfied: referencing>=0.28.4 in /usr/local/lib/python3.11/dist-packages (from jsonschema>=3.0->altair<6,>=4.0->streamlit) (0.35.1)\n",
            "Requirement already satisfied: rpds-py>=0.7.1 in /usr/local/lib/python3.11/dist-packages (from jsonschema>=3.0->altair<6,>=4.0->streamlit) (0.22.3)\n",
            "Requirement already satisfied: mdurl~=0.1 in /usr/local/lib/python3.11/dist-packages (from markdown-it-py>=2.2.0->rich<14,>=10.14.0->streamlit) (0.1.2)\n",
            "Requirement already satisfied: six>=1.5 in /usr/local/lib/python3.11/dist-packages (from python-dateutil>=2.8.2->pandas<3,>=1.4.0->streamlit) (1.17.0)\n",
            "Requirement already satisfied: rdkit in /usr/local/lib/python3.11/dist-packages (2024.9.4)\n",
            "Requirement already satisfied: numpy in /usr/local/lib/python3.11/dist-packages (from rdkit) (1.26.4)\n",
            "Requirement already satisfied: Pillow in /usr/local/lib/python3.11/dist-packages (from rdkit) (11.1.0)\n",
            "Requirement already satisfied: pubchempy in /usr/local/lib/python3.11/dist-packages (1.0.4)\n",
            "\u001b[1G\u001b[0K⠙\u001b[1G\u001b[0K⠹\u001b[1G\u001b[0K⠸\u001b[1G\u001b[0K⠼\u001b[1G\u001b[0K⠴\u001b[1G\u001b[0K\n",
            "up to date, audited 23 packages in 903ms\n",
            "\u001b[1G\u001b[0K⠴\u001b[1G\u001b[0K\n",
            "\u001b[1G\u001b[0K⠴\u001b[1G\u001b[0K3 packages are looking for funding\n",
            "\u001b[1G\u001b[0K⠴\u001b[1G\u001b[0K  run `npm fund` for details\n",
            "\u001b[1G\u001b[0K⠴\u001b[1G\u001b[0K\n",
            "2 \u001b[33m\u001b[1mmoderate\u001b[22m\u001b[39m severity vulnerabilities\n",
            "\n",
            "To address all issues (including breaking changes), run:\n",
            "  npm audit fix --force\n",
            "\n",
            "Run `npm audit` for details.\n",
            "\u001b[1G\u001b[0K⠴\u001b[1G\u001b[0KRequirement already satisfied: py3Dmol in /usr/local/lib/python3.11/dist-packages (2.4.2)\n",
            "Collecting mordred\n",
            "  Downloading mordred-1.2.0.tar.gz (128 kB)\n",
            "\u001b[2K     \u001b[90m━━━━━━━━━━━━━━━━━━━━━━━━━━━━━━━━━━━━━━━━\u001b[0m \u001b[32m128.8/128.8 kB\u001b[0m \u001b[31m2.9 MB/s\u001b[0m eta \u001b[36m0:00:00\u001b[0m\n",
            "\u001b[?25h  Preparing metadata (setup.py) ... \u001b[?25l\u001b[?25hdone\n",
            "Requirement already satisfied: six==1.* in /usr/local/lib/python3.11/dist-packages (from mordred) (1.17.0)\n",
            "Requirement already satisfied: numpy==1.* in /usr/local/lib/python3.11/dist-packages (from mordred) (1.26.4)\n",
            "Collecting networkx==2.* (from mordred)\n",
            "  Downloading networkx-2.8.8-py3-none-any.whl.metadata (5.1 kB)\n",
            "Downloading networkx-2.8.8-py3-none-any.whl (2.0 MB)\n",
            "\u001b[2K   \u001b[90m━━━━━━━━━━━━━━━━━━━━━━━━━━━━━━━━━━━━━━━━\u001b[0m \u001b[32m2.0/2.0 MB\u001b[0m \u001b[31m30.5 MB/s\u001b[0m eta \u001b[36m0:00:00\u001b[0m\n",
            "\u001b[?25hBuilding wheels for collected packages: mordred\n",
            "  Building wheel for mordred (setup.py) ... \u001b[?25l\u001b[?25hdone\n",
            "  Created wheel for mordred: filename=mordred-1.2.0-py3-none-any.whl size=176718 sha256=7eb40e523b57ec5ea71e54eaa5559e225c4df973a87da027c8e73537cd80af24\n",
            "  Stored in directory: /root/.cache/pip/wheels/8b/30/0b/84e3f6775306e74cf5957ee4d16b10bf3927dcec44cc23d5f2\n",
            "Successfully built mordred\n",
            "Installing collected packages: networkx, mordred\n",
            "  Attempting uninstall: networkx\n",
            "    Found existing installation: networkx 3.4.2\n",
            "    Uninstalling networkx-3.4.2:\n",
            "      Successfully uninstalled networkx-3.4.2\n",
            "\u001b[31mERROR: pip's dependency resolver does not currently take into account all the packages that are installed. This behaviour is the source of the following dependency conflicts.\n",
            "scikit-image 0.25.0 requires networkx>=3.0, but you have networkx 2.8.8 which is incompatible.\n",
            "nx-cugraph-cu12 24.10.0 requires networkx>=3.0, but you have networkx 2.8.8 which is incompatible.\u001b[0m\u001b[31m\n",
            "\u001b[0mSuccessfully installed mordred-1.2.0 networkx-2.8.8\n"
          ]
        }
      ],
      "source": [
        "!pip install streamlit\n",
        "!pip install rdkit\n",
        "!pip install pubchempy\n",
        "!npm install localtunnel\n",
        "!pip install py3Dmol\n",
        "!pip install mordred"
      ]
    },
    {
      "cell_type": "markdown",
      "source": [
        "# Write Scripts for the Website"
      ],
      "metadata": {
        "id": "JEIc6V9qkF7Q"
      }
    },
    {
      "cell_type": "code",
      "source": [
        "%%writefile descriptor.py\n",
        "from mordred import Calculator, descriptors\n",
        "from rdkit.Chem import AllChem\n",
        "from rdkit import Chem\n",
        "\n",
        "def get_descriptors(smile):\n",
        "  '''\n",
        "  This function transforms the smiles string into an rdkit mol object, then calculates relavent descriptors\n",
        "  Descriptors are generated using mordred python library\n",
        "  Mordred descriptors: https://mordred-descriptor.github.io/documentation/master/descriptors.html\n",
        "  '''\n",
        "  mol = AllChem.MolFromSmiles(smile)\n",
        "  mol = Chem.AddHs(mol)\n",
        "  AllChem.EmbedMolecule(mol)\n",
        "\n",
        "  descriptor_list = {'nAcid', 'nBase', 'nAromAtom', 'nAtom', 'nSpiro', 'nBridgehead', 'nHetero', 'nB',\n",
        "                     'nN', 'nO', 'nS', 'nP', 'nF', 'nCl', 'nBr', 'nI', 'nX', 'ATS0Z', 'ATS0p', 'AATS0dv',\n",
        "                     'AATS0d', 'AATS0Z', 'AATS0v', 'AATS0i', 'ATSC1dv', 'ATSC2dv', 'ATSC3dv', 'ATSC4dv',\n",
        "                     'ATSC5dv', 'ATSC6dv', 'ATSC7dv', 'ATSC8dv', 'ATSC2d', 'ATSC3d', 'ATSC4d', 'ATSC5d',\n",
        "                     'ATSC6d', 'ATSC7d', 'ATSC8d', 'ATSC1Z', 'ATSC2Z', 'ATSC3Z', 'ATSC5Z', 'ATSC6Z',\n",
        "                     'ATSC7Z', 'ATSC8Z', 'ATSC1v', 'ATSC2v', 'ATSC3v', 'ATSC4v', 'ATSC5v', 'ATSC6v',\n",
        "                     'ATSC7v', 'ATSC8v', 'ATSC0p', 'ATSC2p', 'ATSC3p', 'ATSC4p', 'ATSC5p', 'ATSC6p',\n",
        "                     'ATSC7p', 'ATSC1i', 'ATSC2i', 'ATSC3i', 'ATSC4i', 'ATSC5i', 'ATSC6i', 'ATSC7i',\n",
        "                     'ATSC8i', 'AATSC0dv', 'AATSC0Z', 'AATSC0v', 'AATSC0i', 'BalabanJ', 'nBondsD',\n",
        "                     'nBondsT', 'C2SP1', 'C1SP2', 'C3SP2', 'C1SP3', 'C3SP3', 'C4SP3', 'FCSP3',\n",
        "                     'Xch-3d', 'Xch-5d', 'Xc-4d', 'Xc-5d', 'Xc-4dv', 'Xc-6dv', 'NssssB', 'NsCH3',\n",
        "                     'NdCH2', 'NtCH', 'NdsCH', 'NsssCH', 'NddC', 'NaaaC', 'NssssC', 'NsNH3', 'NsNH2',\n",
        "                     'NdNH', 'NssNH', 'NaaNH', 'NsssNH', 'NdsN', 'NaaN', 'NsssN', 'NddsN', 'NaasN',\n",
        "                     'NssssN', 'NsOH', 'NssO', 'NaaO', 'NsssSiH', 'NssssSi', 'NsssP', 'NsssssP', 'NsSH',\n",
        "                     'NdS', 'NssS', 'NaaS', 'NdssS', 'NddssS', 'NssssGe', 'NsssAs', 'NsssdAs', 'NdSe',\n",
        "                     'NssSe', 'NaaSe', 'NdssSe', 'NssssSn', 'SsssB', 'SsssCH', 'SdssC', 'SaasC', 'fMF',\n",
        "                     'nHBDon', 'IC0', 'IC1', 'MIC0', 'Lipinski', 'GhoseFilter', 'FilterItLogS', 'PEOE_VSA2',\n",
        "                     'PEOE_VSA3', 'PEOE_VSA4', 'PEOE_VSA5', 'PEOE_VSA6', 'PEOE_VSA7', 'PEOE_VSA8', 'PEOE_VSA9',\n",
        "                     'PEOE_VSA10', 'PEOE_VSA11', 'PEOE_VSA12', 'PEOE_VSA13', 'SMR_VSA6', 'SMR_VSA9', 'SlogP_VSA1',\n",
        "                     'SlogP_VSA3', 'SlogP_VSA4', 'SlogP_VSA7', 'SlogP_VSA10', 'EState_VSA2', 'EState_VSA3',\n",
        "                     'EState_VSA4', 'EState_VSA5', 'EState_VSA6', 'EState_VSA7', 'EState_VSA8', 'EState_VSA9',\n",
        "                     'VSA_EState1', 'VSA_EState7', 'VSA_EState9', 'n4Ring', 'n5Ring', 'n7Ring', 'n8Ring', 'n9Ring',\n",
        "                     'n10Ring', 'n11Ring', 'n12Ring', 'nG12Ring', 'nHRing', 'n6HRing', 'n8HRing', 'n12HRing', 'n3aRing',\n",
        "                     'n4aRing', 'n5aRing', 'n7aRing', 'nG12aRing', 'naHRing', 'n6aHRing', 'nARing', 'n5ARing', 'n5AHRing',\n",
        "                     'nFRing', 'n6FRing', 'n7FRing', 'n8FRing', 'n9FRing', 'n10FRing', 'n11FRing', 'n12FRing', 'nG12FRing',\n",
        "                     'n7FHRing', 'n10FHRing', 'nG12FHRing', 'n9FaRing', 'n12FaRing', 'nG12FaRing', 'nG12FaHRing', 'nFARing',\n",
        "                     'n9FARing', 'n10FARing', 'nRot', 'JGI1', 'JGI2', 'JGI3', 'JGI4', 'JGI5', 'JGI6', 'JGI7', 'JGI8', 'JGI9', 'JGI10'}\n",
        "\n",
        "  calc = Calculator(descriptors, ignore_3D=True)  # register all descriptors\n",
        "  calc.descriptors = [d for d in calc.descriptors if str(d) in descriptor_list]\n",
        "  all_desc = calc.pandas([mol])\n",
        "\n",
        "  return all_desc"
      ],
      "metadata": {
        "colab": {
          "base_uri": "https://localhost:8080/"
        },
        "id": "McqdVHxKfny8",
        "outputId": "5b206135-f5a3-47a2-dfb1-489a016a1cca"
      },
      "execution_count": 13,
      "outputs": [
        {
          "output_type": "stream",
          "name": "stdout",
          "text": [
            "Overwriting descriptor.py\n"
          ]
        }
      ]
    },
    {
      "cell_type": "code",
      "execution_count": 14,
      "metadata": {
        "colab": {
          "base_uri": "https://localhost:8080/"
        },
        "id": "R0qLffvTKPlr",
        "outputId": "78802674-929a-4b37-9e8b-c28c2eab08b9"
      },
      "outputs": [
        {
          "output_type": "stream",
          "name": "stdout",
          "text": [
            "Overwriting app.py\n"
          ]
        }
      ],
      "source": [
        "%%writefile app.py\n",
        "# normal imports\n",
        "import streamlit as st\n",
        "import requests\n",
        "\n",
        "# custom file holding the method to calculate descriptors\n",
        "from descriptor import get_descriptors\n",
        "\n",
        "# chemistry imports\n",
        "from rdkit import Chem\n",
        "from rdkit.Chem import Draw\n",
        "import pubchempy as pcp\n",
        "from rdkit.Chem import AllChem\n",
        "import py3Dmol\n",
        "\n",
        "smile = ''\n",
        "name = st.text_input(\"Enter a compund name\")\n",
        "\n",
        "try:\n",
        "  c = pcp.get_compounds(name, 'name')\n",
        "  smile = c[0].isomeric_smiles\n",
        "  st.write(\"You SMILE string is\", smile)\n",
        "\n",
        "except:\n",
        "  st.write(name, \"is not listed in the database\")\n",
        "  smile = ''\n",
        "\n",
        "\n",
        "# Makes rdkit mol object\n",
        "chemical = Chem.MolFromSmiles(smile)\n",
        "if chemical:\n",
        "    # Makes python PIL object so we can display molecule\n",
        "    img = Draw.MolToImage(chemical)\n",
        "    st.image(img, caption=\"Molecule Image\")\n",
        "\n",
        "\n",
        "if st.button(\"Generate descriptors\"):\n",
        "    molecule_embedding = get_descriptors(smile)\n",
        "    st.write(molecule_embedding)\n"
      ]
    },
    {
      "cell_type": "markdown",
      "source": [
        "# Run the website\n",
        "The following commands hosts website and provides url"
      ],
      "metadata": {
        "id": "aVahw-U-ke_J"
      }
    },
    {
      "cell_type": "code",
      "execution_count": 15,
      "metadata": {
        "colab": {
          "base_uri": "https://localhost:8080/"
        },
        "id": "A3vD2StPy3zG",
        "outputId": "8a20ca33-31d7-41fd-d441-c755681b2734"
      },
      "outputs": [
        {
          "output_type": "stream",
          "name": "stdout",
          "text": [
            "34.106.235.131\n"
          ]
        }
      ],
      "source": [
        "# IMPORTANT: this is the \"tunnel password\"\n",
        "!wget -q -O - ipv4.icanhazip.com"
      ]
    },
    {
      "cell_type": "code",
      "execution_count": 16,
      "metadata": {
        "id": "sbzjOZmSKsS0"
      },
      "outputs": [],
      "source": [
        "!streamlit run /content/app.py &>/content/logs.txt &"
      ]
    },
    {
      "cell_type": "code",
      "execution_count": 17,
      "metadata": {
        "colab": {
          "base_uri": "https://localhost:8080/"
        },
        "id": "yfKfCvBBKwXr",
        "outputId": "44628272-09d9-4e0d-edcd-7b5e35abadbd"
      },
      "outputs": [
        {
          "output_type": "stream",
          "name": "stdout",
          "text": [
            "\u001b[1G\u001b[0K⠙\u001b[1G\u001b[0Kyour url is: https://lemon-banks-stay.loca.lt\n",
            "^C\n"
          ]
        }
      ],
      "source": [
        "!npx localtunnel --port 8501"
      ]
    }
  ],
  "metadata": {
    "colab": {
      "provenance": []
    },
    "kernelspec": {
      "display_name": "Python 3",
      "name": "python3"
    },
    "language_info": {
      "name": "python"
    }
  },
  "nbformat": 4,
  "nbformat_minor": 0
}